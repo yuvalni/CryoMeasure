{
 "cells": [
  {
   "cell_type": "code",
   "execution_count": 3,
   "metadata": {},
   "outputs": [],
   "source": [
    "import numpy as np\n",
    "import matplotlib.pyplot as plt\n",
    "import pandas as pd"
   ]
  },
  {
   "cell_type": "code",
   "execution_count": 22,
   "metadata": {},
   "outputs": [],
   "source": [
    "calibration = pd.read_csv('./Calibration/Cernox_calibration.dat',header=0,skiprows=34)"
   ]
  },
  {
   "cell_type": "code",
   "execution_count": 23,
   "metadata": {},
   "outputs": [
    {
     "data": {
      "text/html": [
       "<div>\n",
       "<style scoped>\n",
       "    .dataframe tbody tr th:only-of-type {\n",
       "        vertical-align: middle;\n",
       "    }\n",
       "\n",
       "    .dataframe tbody tr th {\n",
       "        vertical-align: top;\n",
       "    }\n",
       "\n",
       "    .dataframe thead th {\n",
       "        text-align: right;\n",
       "    }\n",
       "</style>\n",
       "<table border=\"1\" class=\"dataframe\">\n",
       "  <thead>\n",
       "    <tr style=\"text-align: right;\">\n",
       "      <th></th>\n",
       "      <th>Comment</th>\n",
       "      <th>Time Stamp (sec)</th>\n",
       "      <th>Status (code)</th>\n",
       "      <th>Temperature (K)</th>\n",
       "      <th>Magnetic Field (Oe)</th>\n",
       "      <th>Sample Position (degrees)</th>\n",
       "      <th>Bridge 1 Resistivity (Ohm)</th>\n",
       "      <th>Bridge 1 Excitation (uA)</th>\n",
       "      <th>Bridge 2 Resistivity (Ohm-m)</th>\n",
       "      <th>Bridge 2 Excitation (uA)</th>\n",
       "      <th>...</th>\n",
       "      <th>Bridge 4 Excitation (uA)</th>\n",
       "      <th>Bridge 1 Std. Dev. (Ohm)</th>\n",
       "      <th>Bridge 2 Std. Dev. (Ohm-m)</th>\n",
       "      <th>Bridge 3 Std. Dev. (Ohm-m)</th>\n",
       "      <th>Bridge 4 Std. Dev. (Ohm-m)</th>\n",
       "      <th>Number of Readings</th>\n",
       "      <th>Bridge 1 Resistance (Ohms)</th>\n",
       "      <th>Bridge 2 Resistance (Ohms)</th>\n",
       "      <th>Bridge 3 Resistance (Ohms)</th>\n",
       "      <th>Bridge 4 Resistance (Ohms)</th>\n",
       "    </tr>\n",
       "  </thead>\n",
       "  <tbody>\n",
       "    <tr>\n",
       "      <th>0</th>\n",
       "      <td>NaN</td>\n",
       "      <td>2.751439e+07</td>\n",
       "      <td>NaN</td>\n",
       "      <td>300.001298</td>\n",
       "      <td>-0.145506</td>\n",
       "      <td>0</td>\n",
       "      <td>81.063574</td>\n",
       "      <td>1.999906</td>\n",
       "      <td>NaN</td>\n",
       "      <td>NaN</td>\n",
       "      <td>...</td>\n",
       "      <td>NaN</td>\n",
       "      <td>0.007272</td>\n",
       "      <td>NaN</td>\n",
       "      <td>NaN</td>\n",
       "      <td>NaN</td>\n",
       "      <td>25</td>\n",
       "      <td>81.063574</td>\n",
       "      <td>NaN</td>\n",
       "      <td>NaN</td>\n",
       "      <td>NaN</td>\n",
       "    </tr>\n",
       "    <tr>\n",
       "      <th>1</th>\n",
       "      <td>NaN</td>\n",
       "      <td>2.751469e+07</td>\n",
       "      <td>NaN</td>\n",
       "      <td>278.927168</td>\n",
       "      <td>-0.398876</td>\n",
       "      <td>0</td>\n",
       "      <td>86.087505</td>\n",
       "      <td>1.999906</td>\n",
       "      <td>NaN</td>\n",
       "      <td>NaN</td>\n",
       "      <td>...</td>\n",
       "      <td>NaN</td>\n",
       "      <td>0.006617</td>\n",
       "      <td>NaN</td>\n",
       "      <td>NaN</td>\n",
       "      <td>NaN</td>\n",
       "      <td>25</td>\n",
       "      <td>86.087505</td>\n",
       "      <td>NaN</td>\n",
       "      <td>NaN</td>\n",
       "      <td>NaN</td>\n",
       "    </tr>\n",
       "    <tr>\n",
       "      <th>2</th>\n",
       "      <td>NaN</td>\n",
       "      <td>2.751495e+07</td>\n",
       "      <td>NaN</td>\n",
       "      <td>259.253230</td>\n",
       "      <td>-0.508186</td>\n",
       "      <td>0</td>\n",
       "      <td>91.583473</td>\n",
       "      <td>1.999906</td>\n",
       "      <td>NaN</td>\n",
       "      <td>NaN</td>\n",
       "      <td>...</td>\n",
       "      <td>NaN</td>\n",
       "      <td>0.009336</td>\n",
       "      <td>NaN</td>\n",
       "      <td>NaN</td>\n",
       "      <td>NaN</td>\n",
       "      <td>25</td>\n",
       "      <td>91.583473</td>\n",
       "      <td>NaN</td>\n",
       "      <td>NaN</td>\n",
       "      <td>NaN</td>\n",
       "    </tr>\n",
       "    <tr>\n",
       "      <th>3</th>\n",
       "      <td>NaN</td>\n",
       "      <td>2.751521e+07</td>\n",
       "      <td>NaN</td>\n",
       "      <td>240.968285</td>\n",
       "      <td>-0.405391</td>\n",
       "      <td>0</td>\n",
       "      <td>97.476595</td>\n",
       "      <td>1.999906</td>\n",
       "      <td>NaN</td>\n",
       "      <td>NaN</td>\n",
       "      <td>...</td>\n",
       "      <td>NaN</td>\n",
       "      <td>0.010054</td>\n",
       "      <td>NaN</td>\n",
       "      <td>NaN</td>\n",
       "      <td>NaN</td>\n",
       "      <td>25</td>\n",
       "      <td>97.476595</td>\n",
       "      <td>NaN</td>\n",
       "      <td>NaN</td>\n",
       "      <td>NaN</td>\n",
       "    </tr>\n",
       "    <tr>\n",
       "      <th>4</th>\n",
       "      <td>NaN</td>\n",
       "      <td>2.751546e+07</td>\n",
       "      <td>NaN</td>\n",
       "      <td>223.967147</td>\n",
       "      <td>-0.268571</td>\n",
       "      <td>0</td>\n",
       "      <td>103.796452</td>\n",
       "      <td>1.999906</td>\n",
       "      <td>NaN</td>\n",
       "      <td>NaN</td>\n",
       "      <td>...</td>\n",
       "      <td>NaN</td>\n",
       "      <td>0.006514</td>\n",
       "      <td>NaN</td>\n",
       "      <td>NaN</td>\n",
       "      <td>NaN</td>\n",
       "      <td>25</td>\n",
       "      <td>103.796452</td>\n",
       "      <td>NaN</td>\n",
       "      <td>NaN</td>\n",
       "      <td>NaN</td>\n",
       "    </tr>\n",
       "  </tbody>\n",
       "</table>\n",
       "<p>5 rows × 23 columns</p>\n",
       "</div>"
      ],
      "text/plain": [
       "   Comment  Time Stamp (sec)  Status (code)  Temperature (K)  \\\n",
       "0      NaN      2.751439e+07            NaN       300.001298   \n",
       "1      NaN      2.751469e+07            NaN       278.927168   \n",
       "2      NaN      2.751495e+07            NaN       259.253230   \n",
       "3      NaN      2.751521e+07            NaN       240.968285   \n",
       "4      NaN      2.751546e+07            NaN       223.967147   \n",
       "\n",
       "   Magnetic Field (Oe)  Sample Position (degrees)  Bridge 1 Resistivity (Ohm)  \\\n",
       "0            -0.145506                          0                   81.063574   \n",
       "1            -0.398876                          0                   86.087505   \n",
       "2            -0.508186                          0                   91.583473   \n",
       "3            -0.405391                          0                   97.476595   \n",
       "4            -0.268571                          0                  103.796452   \n",
       "\n",
       "   Bridge 1 Excitation (uA)  Bridge 2 Resistivity (Ohm-m)  \\\n",
       "0                  1.999906                           NaN   \n",
       "1                  1.999906                           NaN   \n",
       "2                  1.999906                           NaN   \n",
       "3                  1.999906                           NaN   \n",
       "4                  1.999906                           NaN   \n",
       "\n",
       "   Bridge 2 Excitation (uA)  ...  Bridge 4 Excitation (uA)  \\\n",
       "0                       NaN  ...                       NaN   \n",
       "1                       NaN  ...                       NaN   \n",
       "2                       NaN  ...                       NaN   \n",
       "3                       NaN  ...                       NaN   \n",
       "4                       NaN  ...                       NaN   \n",
       "\n",
       "   Bridge 1 Std. Dev. (Ohm)  Bridge 2 Std. Dev. (Ohm-m)  \\\n",
       "0                  0.007272                         NaN   \n",
       "1                  0.006617                         NaN   \n",
       "2                  0.009336                         NaN   \n",
       "3                  0.010054                         NaN   \n",
       "4                  0.006514                         NaN   \n",
       "\n",
       "   Bridge 3 Std. Dev. (Ohm-m)  Bridge 4 Std. Dev. (Ohm-m)  Number of Readings  \\\n",
       "0                         NaN                         NaN                  25   \n",
       "1                         NaN                         NaN                  25   \n",
       "2                         NaN                         NaN                  25   \n",
       "3                         NaN                         NaN                  25   \n",
       "4                         NaN                         NaN                  25   \n",
       "\n",
       "   Bridge 1 Resistance (Ohms)  Bridge 2 Resistance (Ohms)  \\\n",
       "0                   81.063574                         NaN   \n",
       "1                   86.087505                         NaN   \n",
       "2                   91.583473                         NaN   \n",
       "3                   97.476595                         NaN   \n",
       "4                  103.796452                         NaN   \n",
       "\n",
       "   Bridge 3 Resistance (Ohms)  Bridge 4 Resistance (Ohms)  \n",
       "0                         NaN                         NaN  \n",
       "1                         NaN                         NaN  \n",
       "2                         NaN                         NaN  \n",
       "3                         NaN                         NaN  \n",
       "4                         NaN                         NaN  \n",
       "\n",
       "[5 rows x 23 columns]"
      ]
     },
     "execution_count": 23,
     "metadata": {},
     "output_type": "execute_result"
    }
   ],
   "source": [
    "calibration.head()"
   ]
  },
  {
   "cell_type": "code",
   "execution_count": 25,
   "metadata": {},
   "outputs": [],
   "source": [
    "cernox_T = calibration['Temperature (K)']\n",
    "cernox_R = calibration['Bridge 1 Resistivity (Ohm)']"
   ]
  },
  {
   "cell_type": "code",
   "execution_count": 47,
   "metadata": {},
   "outputs": [
    {
     "data": {
      "image/png": "[encoded data removed]",
      "text/plain": [
       "<Figure size 432x288 with 1 Axes>"
      ]
     },
     "metadata": {
      "needs_background": "light"
     },
     "output_type": "display_data"
    },
    {
     "name": "stdout",
     "output_type": "stream",
     "text": [
      "81.06357360839841 2876.7265136718797\n"
     ]
    }
   ],
   "source": [
    "plt.plot(cernox_T,cernox_R)\n",
    "plt.xlabel('Temp')\n",
    "plt.ylabel(\"Resistance\")\n",
    "plt.yscale('log')\n",
    "plt.xscale('log')\n",
    "plt.show()\n",
    "print(min(cernox_R),max(cernox_R))"
   ]
  },
  {
   "cell_type": "code",
   "execution_count": 70,
   "metadata": {},
   "outputs": [],
   "source": [
    "def poly(x,poly):\n",
    "    ans = 0\n",
    "    for n, a in enumerate(poly):\n",
    "        ans += a * x ** n\n",
    "    return ans\n",
    "\n",
    "poly_fit_HighTemp = [2.266093970179639e+03,-74.679741502403559,1.306792649962983,-0.014094956469091,9.945749933401484e-05,-4.688871397124473e-07,1.466123461743109e-09,-2.920818817154983e-12,3.357507675208470e-15,-1.695097455234765e-18] #a,b,c,d of polynom\n",
    "poly_fit_MedTemp = [3.847885862700156e+02,-2.857599908816134,0.011208582325180,-2.682987830440934e-05,4.071137070332167e-08,-3.857907847124153e-11,2.087523622701420e-14,-4.426803462142916e-18,-9.650337680202309e-22,4.910997020133234e-25]\n",
    "poly_fit_LowTemp = [1.474961505714320e+02,-0.514009200082837,9.478152337631471e-04,-1.095475294340138e-06,8.431608728251271e-10,-4.398065114076154e-13,1.538071005155538e-16,-3.455037124618886e-20,4.505799905786075e-24,-2.592838468122653e-28]\n",
    "\n",
    "poly_high_limits = (0,326.48) #Ohms\n",
    "poly_med_limits = (307.17, 1044.19)  # Ohms\n",
    "poly_low_limits = (835.894, 3000)  # Ohms\n",
    "\n",
    "def getTemp(voltage):\n",
    "    #assuming 10 uA - as calibration\n",
    "    if voltage > poly_low_limits[0] * 10**-5:\n",
    "        return poly(voltage*(10**5), poly_fit_LowTemp)\n",
    "    elif voltage > poly_med_limits[0] * 10**-5:\n",
    "        return poly(voltage * (10 ** 5), poly_fit_MedTemp)\n",
    "    else:\n",
    "        return poly(voltage * (10 ** 5), poly_fit_HighTemp)"
   ]
  },
  {
   "cell_type": "code",
   "execution_count": 86,
   "metadata": {},
   "outputs": [],
   "source": [
    "R = np.linspace(81.1,2876,5000)\n",
    "V = R * 10**-5\n",
    "T_calc = np.zeros(V.shape)\n",
    "for (i,_V) in enumerate(V):\n",
    "    T_calc[i] = getTemp(_V)"
   ]
  },
  {
   "cell_type": "code",
   "execution_count": 89,
   "metadata": {},
   "outputs": [
    {
     "data": {
      "image/png": "[encoded data removed]",
      "text/plain": [
       "<Figure size 432x288 with 1 Axes>"
      ]
     },
     "metadata": {
      "needs_background": "light"
     },
     "output_type": "display_data"
    },
    {
     "data": {
      "image/png": "[encoded data removed]",
      "text/plain": [
       "<Figure size 432x288 with 1 Axes>"
      ]
     },
     "metadata": {
      "needs_background": "light"
     },
     "output_type": "display_data"
    }
   ],
   "source": [
    "plt.plot(cernox_T,cernox_R,'o')\n",
    "plt.plot(T_calc,R)\n",
    "plt.xlabel('Temp')\n",
    "plt.ylabel(\"Resistance\")\n",
    "plt.yscale('log')\n",
    "plt.grid()\n",
    "plt.scatter(cernox_T,abs(cernox_T-np.interp(cernox_R,R,T_calc)))\n",
    "plt.yscale('log')\n",
    "plt.grid()\n",
    "plt.show()"
   ]
  },
  {
   "cell_type": "code",
   "execution_count": null,
   "metadata": {},
   "outputs": [],
   "source": []
  }
 ],
 "metadata": {
  "kernelspec": {
   "display_name": "Python 3",
   "language": "python",
   "name": "python3"
  },
  "language_info": {
   "codemirror_mode": {
    "name": "ipython",
    "version": 3
   },
   "file_extension": ".py",
   "mimetype": "text/x-python",
   "name": "python",
   "nbconvert_exporter": "python",
   "pygments_lexer": "ipython3",
   "version": "3.8.3"
  }
 },
 "nbformat": 4,
 "nbformat_minor": 4
}
